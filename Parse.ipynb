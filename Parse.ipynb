{
 "cells": [
  {
   "cell_type": "markdown",
   "id": "6fdc3ca6-d1bb-4de5-840d-17b31eb7a6ac",
   "metadata": {},
   "source": [
    "There i parse telegram chat history "
   ]
  },
  {
   "cell_type": "code",
   "execution_count": 16,
   "id": "5de57cd9-4023-495e-87ef-4b57c28922ca",
   "metadata": {},
   "outputs": [
    {
     "name": "stdout",
     "output_type": "stream",
     "text": [
      "Collecting lxml\n",
      "  Downloading lxml-4.9.0-cp310-cp310-win_amd64.whl (3.6 MB)\n",
      "     ---------------------------------------- 3.6/3.6 MB 1.7 MB/s eta 0:00:00\n",
      "Installing collected packages: lxml\n",
      "Successfully installed lxml-4.9.0\n"
     ]
    },
    {
     "name": "stderr",
     "output_type": "stream",
     "text": [
      "WARNING: You are using pip version 22.0.4; however, version 22.1.1 is available.\n",
      "You should consider upgrading via the 'C:\\Users\\royta\\AppData\\Local\\Programs\\Python\\Python310\\python.exe -m pip install --upgrade pip' command.\n"
     ]
    }
   ],
   "source": [
    "!pip install lxml"
   ]
  },
  {
   "cell_type": "code",
   "execution_count": 9,
   "id": "22e3606b-45c5-4e8e-baaa-7a813cebc1ec",
   "metadata": {},
   "outputs": [],
   "source": [
    "import os\n",
    "import shutil\n",
    "from lxml import html\n",
    "from contextlib import suppress\n",
    "\n",
    "import torch\n",
    "from PIL import Image\n",
    "from facenet_pytorch import MTCNN, InceptionResnetV1\n",
    "\n",
    "\n",
    "import utils"
   ]
  },
  {
   "cell_type": "code",
   "execution_count": 2,
   "id": "9f5e8f51-ad44-4d7f-a48d-9d261efd4b27",
   "metadata": {},
   "outputs": [],
   "source": [
    "def get_name(body: html.HtmlElement) -> str|None:\n",
    "    with suppress(Exception):\n",
    "        name = body.find_class('from_name')[0].text\n",
    "        name = name.replace('\\n', '').strip()\n",
    "        return name"
   ]
  },
  {
   "cell_type": "code",
   "execution_count": 3,
   "id": "b0bd8d39-013c-4a9f-85be-41e033a44702",
   "metadata": {},
   "outputs": [],
   "source": [
    "def get_photo(body: html.HtmlElement) -> str|None:\n",
    "    with suppress(Exception):\n",
    "        div = body.find_class('media_wrap')[0]\n",
    "        a = div.getchildren()[0]\n",
    "        photo = a.attrib['href']\n",
    "        return photo"
   ]
  },
  {
   "cell_type": "code",
   "execution_count": 4,
   "id": "c9541058-6739-4fa0-af88-f0db0445140c",
   "metadata": {},
   "outputs": [],
   "source": [
    "def get_text(body: html.HtmlElement, text=\"\") -> str|None:\n",
    "    with suppress(Exception):\n",
    "        div = body.find_class('text')[0]\n",
    "        for t in div.itertext():\n",
    "            text+= t\n",
    "            \n",
    "        text = text.replace('\\n', '', 2).strip()\n",
    "        return text"
   ]
  },
  {
   "cell_type": "code",
   "execution_count": 5,
   "id": "c71919f7-7f7a-46fd-9d74-39cff3dbc6fb",
   "metadata": {},
   "outputs": [],
   "source": [
    "def process_photo(photo_path:str, saved_path:str):\n",
    "    save_embs = True\n",
    "    if photo_path in embeder.path_id:\n",
    "        uid = embeder.path_id[photo_path]\n",
    "        if os.path.exists(f'{saved_path}/{uid}.png'):\n",
    "            return\n",
    "        \n",
    "        else:\n",
    "            save_embs = False\n",
    "\n",
    "    img = Image.open(photo_path)\n",
    "    _, e = photo_path.split('.')\n",
    "    if e.lower() == 'png':\n",
    "        img = img.convert('RGB')\n",
    "        \n",
    "    img_cropped = mtcnn(img, save_path='tmp.png')\n",
    "    \n",
    "    # Check for founded face\n",
    "    if img_cropped is not None:\n",
    "        img_cropped = img_cropped.unsqueeze(0)\n",
    "    \n",
    "        if save_embs:\n",
    "            embs = [model(img_cropped) for model in embeds_models]\n",
    "            embeder[photo_path] = embs\n",
    "\n",
    "        uid = embeder.path_id[photo_path]\n",
    "        shutil.move('tmp.png', f'{saved_path}/{uid}.png')"
   ]
  },
  {
   "cell_type": "code",
   "execution_count": 6,
   "id": "de8839ed-6492-40ef-9e1c-e026e37e92f6",
   "metadata": {},
   "outputs": [],
   "source": [
    "def procces_markup(src:str, dst:str):\n",
    "    if not src.endswith('/'):\n",
    "        src+= '/'\n",
    "        \n",
    "    if dst.endswith('/'):\n",
    "        dst = dst[:-1]\n",
    "        \n",
    "    for file in os.listdir(src):\n",
    "        photo_path = src + file\n",
    "        process_photo(photo_path, dst)"
   ]
  },
  {
   "cell_type": "code",
   "execution_count": 7,
   "id": "71f24ab5-a49e-4cb5-adb0-f5eb1e62f25d",
   "metadata": {},
   "outputs": [],
   "source": [
    "mtcnn = MTCNN()\n",
    "model1 = InceptionResnetV1(pretrained='vggface2').eval()\n",
    "model2 = InceptionResnetV1(pretrained='casia-webface').eval()\n",
    "\n",
    "embeds_models = [model1, model2]\n",
    "embeder = utils.PhotoEmbedingStorage()"
   ]
  },
  {
   "cell_type": "code",
   "execution_count": 8,
   "id": "d34c5777-42f1-4ef2-b211-a9a2648cf2b4",
   "metadata": {},
   "outputs": [],
   "source": [
    "messages = []\n",
    "for catalog in os.listdir('tg_data'):\n",
    "    \n",
    "    for file in os.listdir('tg_data/' + catalog):\n",
    "        if '.html' in file:\n",
    "\n",
    "            with open(f\"tg_data/{catalog}/{file}\", \"r\", encoding='utf-8') as f:\n",
    "                _html = f.read()\n",
    "\n",
    "            tree = html.fromstring(_html)\n",
    "            history = tree.xpath(\"/html/body/div/div[2]/div\")[0]\n",
    "            history = history.find_class('message default clearfix')\n",
    "\n",
    "            for message in history:\n",
    "                body = message.find_class('body')[0]\n",
    "                    \n",
    "                photo = get_photo(body) \n",
    "                photo = f\"{catalog}/{photo}\" if photo else None\n",
    "                messages+= [{\n",
    "                    'name': get_name(body),\n",
    "                    'text': get_text(body),\n",
    "                    'photo': photo,\n",
    "                }]"
   ]
  },
  {
   "cell_type": "code",
   "execution_count": 10,
   "id": "9af8202d-22fc-404c-a99e-49da7319c054",
   "metadata": {
    "tags": []
   },
   "outputs": [
    {
     "name": "stderr",
     "output_type": "stream",
     "text": [
      "C:\\Users\\royta\\AppData\\Local\\Programs\\Python\\Python310\\lib\\site-packages\\torch\\nn\\functional.py:780: UserWarning: Note that order of the arguments: ceil_mode and return_indices will changeto match the args list in nn.MaxPool2d in a future release.\n",
      "  warnings.warn(\"Note that order of the arguments: ceil_mode and return_indices will change\"\n"
     ]
    }
   ],
   "source": [
    "with torch.no_grad():\n",
    "    for current, previous in zip(messages[1:], messages[:-1]):\n",
    "        if previous['photo']:\n",
    "            photo_path = 'tg_data/' + previous['photo']\n",
    "\n",
    "            if current['text'] in ['💌', '❤️', '👍']:\n",
    "                saved_path = 'data/target'\n",
    "\n",
    "            elif current['text'] in ['👎']:\n",
    "                saved_path = 'data/opposite'\n",
    "\n",
    "            else:\n",
    "                continue\n",
    "        \n",
    "            \n",
    "            process_photo(photo_path, saved_path)"
   ]
  },
  {
   "cell_type": "code",
   "execution_count": 11,
   "id": "ea479b0c-e5e4-404f-a5cd-fa48555f50e1",
   "metadata": {
    "tags": []
   },
   "outputs": [],
   "source": [
    "with torch.no_grad():\n",
    "    procces_markup('markup/test_target',  \"data/test_target/\")\n",
    "    procces_markup('markup/test_opposite',  \"data/test_opposite/\")\n",
    "    procces_markup('markup/target',  \"data/markup_target/\")\n",
    "    procces_markup('markup/opposite',  \"data/markup_opposite/\")"
   ]
  },
  {
   "cell_type": "code",
   "execution_count": 12,
   "id": "03e4b1be-9304-4b31-84c2-5eda88bde1fa",
   "metadata": {},
   "outputs": [],
   "source": [
    "embeder.save('emb storage.pkl')"
   ]
  },
  {
   "cell_type": "markdown",
   "id": "56f9fc83-f9fb-4738-ac9b-4433f2f2c1cc",
   "metadata": {},
   "source": [
    "Manually clear the dataset"
   ]
  }
 ],
 "metadata": {
  "kernelspec": {
   "display_name": "Python 3 (ipykernel)",
   "language": "python",
   "name": "python3"
  },
  "language_info": {
   "codemirror_mode": {
    "name": "ipython",
    "version": 3
   },
   "file_extension": ".py",
   "mimetype": "text/x-python",
   "name": "python",
   "nbconvert_exporter": "python",
   "pygments_lexer": "ipython3",
   "version": "3.10.4"
  }
 },
 "nbformat": 4,
 "nbformat_minor": 5
}
