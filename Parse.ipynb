{
 "cells": [
  {
   "cell_type": "markdown",
   "id": "6fdc3ca6-d1bb-4de5-840d-17b31eb7a6ac",
   "metadata": {},
   "source": [
    "There i parse telegram chat history "
   ]
  },
  {
   "cell_type": "code",
   "execution_count": 16,
   "id": "5de57cd9-4023-495e-87ef-4b57c28922ca",
   "metadata": {},
   "outputs": [
    {
     "name": "stdout",
     "output_type": "stream",
     "text": [
      "Collecting lxml\n",
      "  Downloading lxml-4.9.0-cp310-cp310-win_amd64.whl (3.6 MB)\n",
      "     ---------------------------------------- 3.6/3.6 MB 1.7 MB/s eta 0:00:00\n",
      "Installing collected packages: lxml\n",
      "Successfully installed lxml-4.9.0\n"
     ]
    },
    {
     "name": "stderr",
     "output_type": "stream",
     "text": [
      "WARNING: You are using pip version 22.0.4; however, version 22.1.1 is available.\n",
      "You should consider upgrading via the 'C:\\Users\\royta\\AppData\\Local\\Programs\\Python\\Python310\\python.exe -m pip install --upgrade pip' command.\n"
     ]
    }
   ],
   "source": [
    "!pip install lxml"
   ]
  },
  {
   "cell_type": "code",
   "execution_count": 21,
   "id": "22e3606b-45c5-4e8e-baaa-7a813cebc1ec",
   "metadata": {},
   "outputs": [],
   "source": [
    "import os\n",
    "import shutil\n",
    "from lxml import html\n",
    "from contextlib import suppress\n",
    "\n",
    "from PIL import Image\n",
    "from facenet_pytorch import MTCNN, InceptionResnetV1"
   ]
  },
  {
   "cell_type": "code",
   "execution_count": 16,
   "id": "9f5e8f51-ad44-4d7f-a48d-9d261efd4b27",
   "metadata": {},
   "outputs": [],
   "source": [
    "def get_name(body: html.HtmlElement) -> str|None:\n",
    "    with suppress(Exception):\n",
    "        name = body.find_class('from_name')[0].text\n",
    "        name = name.replace('\\n', '').strip()\n",
    "        return name"
   ]
  },
  {
   "cell_type": "code",
   "execution_count": 17,
   "id": "b0bd8d39-013c-4a9f-85be-41e033a44702",
   "metadata": {},
   "outputs": [],
   "source": [
    "def get_photo(body: html.HtmlElement) -> str|None:\n",
    "    with suppress(Exception):\n",
    "        div = body.find_class('media_wrap')[0]\n",
    "        a = div.getchildren()[0]\n",
    "        photo = a.attrib['href']\n",
    "        return photo"
   ]
  },
  {
   "cell_type": "code",
   "execution_count": 18,
   "id": "c9541058-6739-4fa0-af88-f0db0445140c",
   "metadata": {},
   "outputs": [],
   "source": [
    "def get_text(body: html.HtmlElement, text=\"\") -> str|None:\n",
    "    with suppress(Exception):\n",
    "        div = body.find_class('text')[0]\n",
    "        for t in div.itertext():\n",
    "            text+= t\n",
    "            \n",
    "        text = text.replace('\\n', '', 2).strip()\n",
    "        return text"
   ]
  },
  {
   "cell_type": "code",
   "execution_count": 19,
   "id": "d34c5777-42f1-4ef2-b211-a9a2648cf2b4",
   "metadata": {},
   "outputs": [],
   "source": [
    "messages = []\n",
    "\n",
    "for catalog in os.listdir('tg_data'):\n",
    "    \n",
    "    for file in os.listdir('tg_data/' + catalog):\n",
    "        if '.html' in file:\n",
    "\n",
    "            with open(f\"tg_data/{catalog}/{file}\", \"r\", encoding='utf-8') as f:\n",
    "                _html = f.read()\n",
    "\n",
    "            tree = html.fromstring(_html)\n",
    "            history = tree.xpath(\"/html/body/div/div[2]/div\")[0]\n",
    "            history = history.find_class('message default clearfix')\n",
    "\n",
    "            for message in history:\n",
    "                body = message.find_class('body')[0]\n",
    "                body = message.find_class('body')[0]\n",
    "                    \n",
    "                photo = get_photo(body) \n",
    "                photo = f\"{catalog}/{photo}\" if photo else None\n",
    "                messages+= [{\n",
    "                    'name': get_name(body),\n",
    "                    'text': get_text(body),\n",
    "                    'photo': photo,\n",
    "                }]"
   ]
  },
  {
   "cell_type": "code",
   "execution_count": 22,
   "id": "71f24ab5-a49e-4cb5-adb0-f5eb1e62f25d",
   "metadata": {},
   "outputs": [
    {
     "name": "stderr",
     "output_type": "stream",
     "text": [
      "100%|████████████████████████████████████████████████████████████████████████████████| 111M/111M [02:53<00:00, 667kB/s]\n"
     ]
    }
   ],
   "source": [
    "mtcnn = MTCNN()\n",
    "model1 = InceptionResnetV1(pretrained='vggface2').eval()\n",
    "model2 = InceptionResnetV1(pretrained='casia-webface').eval()"
   ]
  },
  {
   "cell_type": "code",
   "execution_count": 7,
   "id": "9af8202d-22fc-404c-a99e-49da7319c054",
   "metadata": {
    "tags": []
   },
   "outputs": [
    {
     "name": "stderr",
     "output_type": "stream",
     "text": [
      "C:\\Users\\royta\\AppData\\Local\\Programs\\Python\\Python310\\lib\\site-packages\\torch\\nn\\functional.py:780: UserWarning: Note that order of the arguments: ceil_mode and return_indices will changeto match the args list in nn.MaxPool2d in a future release.\n",
      "  warnings.warn(\"Note that order of the arguments: ceil_mode and return_indices will change\"\n"
     ]
    }
   ],
   "source": [
    "for current, previous in zip(messages[1:], messages[:-1]):\n",
    "    if previous['photo']:\n",
    "        photo_path = 'tg_data/' + previous['photo']\n",
    "        photo_name = previous['photo'].split('/')[-1]\n",
    "        \n",
    "        if current['text'] in ['💌', '❤️', '👍']:\n",
    "            saved_path = 'data/target/' + photo_name\n",
    "\n",
    "        elif current['text'] in ['👎']:\n",
    "            saved_path = 'data/opposite/' + photo_name\n",
    "        \n",
    "        else:\n",
    "            continue\n",
    "            \n",
    "        \n",
    "        while os.path.exists(saved_path):\n",
    "            path, e = saved_path.split('.')\n",
    "            path += ' i'\n",
    "            saved_path = f\"{path}.{e}\"\n",
    "            \n",
    "        img = Image.open(photo_path)\n",
    "        img_cropped = mtcnn(img, save_path=saved_path)"
   ]
  },
  {
   "cell_type": "code",
   "execution_count": 9,
   "id": "dada54ed-9542-4fb1-a713-7b79a979a625",
   "metadata": {},
   "outputs": [],
   "source": [
    "DATASET_PATH = \"data\""
   ]
  },
  {
   "cell_type": "code",
   "execution_count": 8,
   "id": "1b9ef295-5e72-4ded-badd-b153717b5c7f",
   "metadata": {
    "tags": []
   },
   "outputs": [
    {
     "name": "stderr",
     "output_type": "stream",
     "text": [
      "C:\\Users\\royta\\AppData\\Local\\Programs\\Python\\Python310\\lib\\site-packages\\torch\\nn\\functional.py:780: UserWarning: Note that order of the arguments: ceil_mode and return_indices will changeto match the args list in nn.MaxPool2d in a future release.\n",
      "  warnings.warn(\"Note that order of the arguments: ceil_mode and return_indices will change\"\n"
     ]
    }
   ],
   "source": [
    "for file in os.listdir('markup/test_target'):\n",
    "    photo_path = 'markup/test_target/' + file\n",
    "    photo_name = file\n",
    "    saved_path = DATASET_PATH + \"/test_target/\" + file\n",
    "    \n",
    "    img = Image.open(photo_path)\n",
    "    _, e = file.split('.')\n",
    "    if e.lower() == 'png':\n",
    "        img = img.convert('RGB')\n",
    "        \n",
    "    img_cropped = mtcnn(img, save_path=saved_path)\n",
    "    \n",
    "    \n",
    "for file in os.listdir('markup/test_opposite'):\n",
    "    photo_path = 'markup/test_opposite/' + file\n",
    "    photo_name = file\n",
    "    saved_path = DATASET_PATH + \"/test_opposite/\" + file\n",
    "\n",
    "    img = Image.open(photo_path)\n",
    "    _, e = file.split('.')\n",
    "    if e.lower() == 'png':\n",
    "        img = img.convert('RGB')\n",
    "        \n",
    "    img_cropped = mtcnn(img, save_path=saved_path)\n",
    "    \n",
    "    \n",
    "for file in os.listdir('markup/target'):\n",
    "    photo_path = 'markup/target/' + file\n",
    "    photo_name = file\n",
    "    saved_path = DATASET_PATH + \"/markup_target/\" + file\n",
    "    \n",
    "    img = Image.open(photo_path)\n",
    "    _, e = file.split('.')\n",
    "    if e.lower() == 'png':\n",
    "        img = img.convert('RGB')\n",
    "        \n",
    "    img_cropped = mtcnn(img, save_path=saved_path)\n",
    "    \n",
    "    \n",
    "for file in os.listdir('markup/opposite'):\n",
    "    photo_path = 'markup/opposite/' + file\n",
    "    photo_name = file\n",
    "    saved_path = DATASET_PATH + \"/markup_opposite/\" + file\n",
    "    \n",
    "    img = Image.open(photo_path)\n",
    "    _, e = file.split('.')\n",
    "    if e.lower() == 'png':\n",
    "        img = img.convert('RGB')\n",
    "        \n",
    "    img_cropped = mtcnn(img, save_path=saved_path)"
   ]
  },
  {
   "cell_type": "markdown",
   "id": "56f9fc83-f9fb-4738-ac9b-4433f2f2c1cc",
   "metadata": {},
   "source": [
    "Manually clear the dataset"
   ]
  }
 ],
 "metadata": {
  "kernelspec": {
   "display_name": "Python 3 (ipykernel)",
   "language": "python",
   "name": "python3"
  },
  "language_info": {
   "codemirror_mode": {
    "name": "ipython",
    "version": 3
   },
   "file_extension": ".py",
   "mimetype": "text/x-python",
   "name": "python",
   "nbconvert_exporter": "python",
   "pygments_lexer": "ipython3",
   "version": "3.10.4"
  }
 },
 "nbformat": 4,
 "nbformat_minor": 5
}
