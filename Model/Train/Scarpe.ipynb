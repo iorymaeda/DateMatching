{
 "cells": [
  {
   "cell_type": "code",
   "execution_count": 1,
   "id": "4ac7c3ee-de81-477d-8e64-ba3fef67bdb3",
   "metadata": {
    "tags": []
   },
   "outputs": [],
   "source": [
    "import os\n",
    "import time\n",
    "import pathlib\n",
    "from concurrent.futures import ThreadPoolExecutor\n",
    "\n",
    "from instagrapi import Client"
   ]
  },
  {
   "cell_type": "code",
   "execution_count": 2,
   "id": "cf246989-2acc-4fd7-8f2c-70b52153e781",
   "metadata": {},
   "outputs": [],
   "source": [
    "def to_jpg(r: pathlib.WindowsPath):\n",
    "    if isinstance(r, pathlib.WindowsPath):\n",
    "        r.rename(r.with_suffix('.jpg'))\n",
    "    else:\n",
    "        raise ValueError"
   ]
  },
  {
   "cell_type": "code",
   "execution_count": 3,
   "id": "c8f5309c-30c7-4322-bbf3-e49e7f092933",
   "metadata": {
    "tags": []
   },
   "outputs": [],
   "source": [
    "timeout = 4\n",
    "batch_size = 16\n",
    "executor = ThreadPoolExecutor(max_workers=batch_size)"
   ]
  },
  {
   "cell_type": "code",
   "execution_count": 7,
   "id": "df39cccd-0597-4dec-ab6f-5ff69eaf81f3",
   "metadata": {
    "tags": []
   },
   "outputs": [
    {
     "name": "stderr",
     "output_type": "stream",
     "text": [
      "Status 429: Too many requests\n",
      "Ignore 429: Continue login\n"
     ]
    },
    {
     "data": {
      "text/plain": [
       "True"
      ]
     },
     "execution_count": 7,
     "metadata": {},
     "output_type": "execute_result"
    }
   ],
   "source": [
    "cl = Client()\n",
    "cl.login(os.environ.get(\"InstaLogin\"), os.environ.get(\"InstaPassword\"), relogin=True)"
   ]
  },
  {
   "cell_type": "code",
   "execution_count": null,
   "id": "7fa1851f-4a57-4273-a866-9a4fce21d18a",
   "metadata": {
    "tags": []
   },
   "outputs": [],
   "source": [
    "user_name = \"\"\n",
    "user_id = cl.user_id_from_username(user_name)\n",
    "save_path = pathlib.Path(f'markup/{user_name}/')\n",
    "save_path.mkdir(exist_ok=True)"
   ]
  },
  {
   "cell_type": "code",
   "execution_count": null,
   "id": "aeac1b9c-a3a5-48e8-9b10-ef8799ff59df",
   "metadata": {},
   "outputs": [],
   "source": [
    "medias = cl.user_medias(user_id, 100)"
   ]
  },
  {
   "cell_type": "code",
   "execution_count": null,
   "id": "7a6a8d9c-8405-4c4c-b46b-320fc8b45219",
   "metadata": {
    "tags": []
   },
   "outputs": [],
   "source": [
    "num_batches = len(medias)//batch_size + int(len(medias)%batch_size != 0)\n",
    "for b in range(num_batches):\n",
    "    time_start = time.time()\n",
    "    \n",
    "    tasks = []\n",
    "    for media in medias[b*batch_size:(b+1)*batch_size]:\n",
    "        if media.media_type == 1:\n",
    "            task =  executor.submit(cl.photo_download, media.pk, folder=save_path)\n",
    "        elif media.media_type == 8:\n",
    "            task = executor.submit(cl.album_download, media.pk, folder=save_path)\n",
    "        tasks.append(task)\n",
    "        \n",
    "        \n",
    "    for r in [t.result() for t in tasks]:\n",
    "        if isinstance(r, list):\n",
    "            for _r in r:\n",
    "                to_jpg(_r)\n",
    "        else:\n",
    "            to_jpg(r)\n",
    "        \n",
    "        \n",
    "    passed_time = time.time() - time_start\n",
    "    if passed_time < timeout:\n",
    "        time.sleep(timeout - passed_time)"
   ]
  }
 ],
 "metadata": {
  "kernelspec": {
   "display_name": "Python 3 (ipykernel)",
   "language": "python",
   "name": "python3"
  },
  "language_info": {
   "codemirror_mode": {
    "name": "ipython",
    "version": 3
   },
   "file_extension": ".py",
   "mimetype": "text/x-python",
   "name": "python",
   "nbconvert_exporter": "python",
   "pygments_lexer": "ipython3",
   "version": "3.10.4"
  }
 },
 "nbformat": 4,
 "nbformat_minor": 5
}
