{
 "cells": [
  {
   "cell_type": "code",
   "execution_count": 1,
   "id": "d1835cc1-4b29-4abe-b750-f91d032e0521",
   "metadata": {},
   "outputs": [],
   "source": [
    "import os\n",
    "import sys\n",
    "import random\n",
    "import pickle\n",
    "import datetime\n",
    "\n",
    "import numpy as np\n",
    "import torchmetrics\n",
    "import torchsummary\n",
    "import torch\n",
    "from torch import nn\n",
    "import torch.nn.functional as F\n",
    "from torch.utils.data import Dataset\n",
    "from torch.utils.tensorboard import SummaryWriter\n",
    "from sklearn.model_selection import train_test_split\n",
    "import matplotlib.pyplot as plt; plt.style.use('seaborn')\n",
    "import seaborn as sns\n",
    "\n",
    "\n",
    "\n",
    "sys.path.insert(0, \"C:\\Projects\\DateMatching\\Model\") \n",
    "import utils\n",
    "\n",
    "DEVICE = 'cuda' if torch.cuda.is_available() else 'cpu'"
   ]
  },
  {
   "cell_type": "markdown",
   "id": "0ddb5355-34fe-4baa-ade1-0066986a3a12",
   "metadata": {},
   "source": [
    "### Prepare data"
   ]
  },
  {
   "cell_type": "code",
   "execution_count": 2,
   "id": "8125de3b-a43f-4e28-afc4-36f574491741",
   "metadata": {},
   "outputs": [],
   "source": [
    "embeder = utils.EmbedingStorage('weights/emb_storage.pkl')"
   ]
  },
  {
   "cell_type": "code",
   "execution_count": 3,
   "id": "abd9bf25-bb9c-41b2-9cd7-5c47d7291b6b",
   "metadata": {},
   "outputs": [
    {
     "name": "stdout",
     "output_type": "stream",
     "text": [
      "similarity [[0.81257343]]\n"
     ]
    }
   ],
   "source": [
    "emb1 = embeder[20880]\n",
    "emb2 = embeder[20881]\n",
    "print('similarity', (emb1/np.linalg.norm(emb1)) @ (emb2/np.linalg.norm(emb2)).T)"
   ]
  },
  {
   "cell_type": "code",
   "execution_count": 4,
   "id": "c0d58d66-f2b2-4c55-a9ba-88a3c0308560",
   "metadata": {},
   "outputs": [],
   "source": [
    "files_opposite = []\n",
    "files_target = []\n",
    "\n",
    "path = \"data/opposite/\"\n",
    "files_opposite += [embeder[int(f.split('.')[0])] for f in os.listdir(path) if f != '.gitkeep']\n",
    "\n",
    "path =  \"data/target/\"\n",
    "files_target += [embeder[int(f.split('.')[0])] for f in os.listdir(path) if f != '.gitkeep']\n",
    "\n",
    "files_opposite = np.array(files_opposite)\n",
    "files_target = np.array(files_target)\n",
    "\n",
    "y_opposite = np.zeros(len(files_opposite), dtype='float32')\n",
    "y_target = np.ones(len(files_target), dtype='float32')\n",
    "\n",
    "X = np.concatenate([files_opposite, files_target])[:, 0]\n",
    "Y = np.concatenate([y_opposite, y_target])\n",
    "\n",
    "Xtrain, Xtest, Ytrain, Ytest = train_test_split(X, Y, test_size=0.2, random_state=69)\n",
    "Xtrain, Xval, Ytrain, Yval = train_test_split(Xtrain, Ytrain, test_size=0.2, random_state=69)"
   ]
  },
  {
   "cell_type": "code",
   "execution_count": 5,
   "id": "e443c548-383e-493b-b04b-d73c75a1101c",
   "metadata": {},
   "outputs": [
    {
     "data": {
      "text/plain": [
       "((20845,), (20845, 512))"
      ]
     },
     "execution_count": 5,
     "metadata": {},
     "output_type": "execute_result"
    }
   ],
   "source": [
    "Y.shape, X.shape"
   ]
  },
  {
   "cell_type": "code",
   "execution_count": 6,
   "id": "fe0a4436-8f54-4cd1-b5b3-3cb681ff2a9a",
   "metadata": {},
   "outputs": [
    {
     "data": {
      "text/plain": [
       "(82.0, 23.0, 30.0)"
      ]
     },
     "execution_count": 6,
     "metadata": {},
     "output_type": "execute_result"
    }
   ],
   "source": [
    "Ytrain.sum(), Yval.sum(), Ytest.sum()"
   ]
  },
  {
   "cell_type": "markdown",
   "id": "1b1ed60c-97a2-4cf9-9ae1-fb779658ea69",
   "metadata": {},
   "source": [
    "# Train"
   ]
  },
  {
   "cell_type": "markdown",
   "id": "59472575-f796-4f6e-9b1a-fd84fe59a69d",
   "metadata": {},
   "source": [
    "### evaluate"
   ]
  },
  {
   "cell_type": "code",
   "execution_count": 7,
   "id": "51396e6f-85bf-41ee-857f-9ee2e061fdd0",
   "metadata": {},
   "outputs": [],
   "source": [
    "from sklearn.metrics import accuracy_score\n",
    "from sklearn.metrics import roc_auc_score\n",
    "from sklearn.metrics import precision_score\n",
    "from sklearn.metrics import recall_score\n",
    "from sklearn.metrics import f1_score\n",
    "from sklearn.metrics import precision_recall_curve\n",
    "\n",
    "\n",
    "def evaluate(y_true, y_pred):\n",
    "    print(f\"accuracy  {accuracy_score(y_true, y_pred.round())}\")\n",
    "    print(f\"AUC       {roc_auc_score(y_true, y_pred)}\")\n",
    "    print(f\"precision {precision_score(y_true, y_pred.round())}\")\n",
    "    print(f\"recall    {recall_score(y_true, y_pred.round())}\")\n",
    "    print(f\"f1        {f1_score(y_true, y_pred.round())}\")\n",
    "    \n",
    "    p, r, t = precision_recall_curve(y_true, y_pred)\n",
    "    \n",
    "    plt.plot(p, r, label='precision_recall_curve')\n",
    "    plt.xlabel('precision')\n",
    "    plt.ylabel('recall')\n",
    "    plt.show()"
   ]
  },
  {
   "cell_type": "markdown",
   "id": "ad26452b-aa09-41a1-b138-66ea33a97049",
   "metadata": {},
   "source": [
    "### KNeighbors Classifier"
   ]
  },
  {
   "cell_type": "code",
   "execution_count": 8,
   "id": "61e8a8fe-443f-42e6-8ece-f9753cfe5eb5",
   "metadata": {},
   "outputs": [],
   "source": [
    "from sklearn.pipeline import Pipeline\n",
    "from sklearn.neighbors import NeighborhoodComponentsAnalysis, KNeighborsClassifier\n",
    "\n",
    "nca = NeighborhoodComponentsAnalysis()\n",
    "knn = KNeighborsClassifier(n_neighbors=2)\n",
    "\n",
    "nca_pipe = Pipeline([('nca', nca), ('knn', knn)])\n",
    "nca_pipe.fit(Xtrain, Ytrain);"
   ]
  },
  {
   "cell_type": "code",
   "execution_count": 9,
   "id": "198d7174-de1b-46e1-8455-ec2bfcd6e82d",
   "metadata": {},
   "outputs": [
    {
     "name": "stdout",
     "output_type": "stream",
     "text": [
      "accuracy  0.9956824178460062\n",
      "AUC       0.8150157042763952\n",
      "precision 0.9285714285714286\n",
      "recall    0.43333333333333335\n",
      "f1        0.5909090909090909\n"
     ]
    },
    {
     "data": {
      "image/png": "[encoded data removed]",
      "text/plain": [
       "<Figure size 576x396 with 1 Axes>"
      ]
     },
     "metadata": {},
     "output_type": "display_data"
    }
   ],
   "source": [
    "pred = nca_pipe.predict_proba(Xtest)\n",
    "evaluate(Ytest, pred[:, 1])"
   ]
  },
  {
   "cell_type": "markdown",
   "id": "841a7ef0-da29-433c-a0f5-c236b976412a",
   "metadata": {},
   "source": [
    "### NearestCentroid"
   ]
  },
  {
   "cell_type": "code",
   "execution_count": 10,
   "id": "9493f5c1-26ec-4dbd-9f54-4782d15e4278",
   "metadata": {},
   "outputs": [],
   "source": [
    "from sklearn.neighbors import NearestCentroid\n",
    "\n",
    "clf = NearestCentroid()\n",
    "clf.fit(Xtrain, Ytrain);"
   ]
  },
  {
   "cell_type": "code",
   "execution_count": 11,
   "id": "25e10561-ea0b-46e4-a207-09b01ebdb8aa",
   "metadata": {},
   "outputs": [
    {
     "name": "stdout",
     "output_type": "stream",
     "text": [
      "accuracy  0.8522427440633246\n",
      "AUC       0.760127244906177\n",
      "precision 0.03194888178913738\n",
      "recall    0.6666666666666666\n",
      "f1        0.06097560975609756\n"
     ]
    },
    {
     "data": {
      "image/png": "[encoded data removed]",
      "text/plain": [
       "<Figure size 576x396 with 1 Axes>"
      ]
     },
     "metadata": {},
     "output_type": "display_data"
    }
   ],
   "source": [
    "pred = clf.predict(Xtest)\n",
    "evaluate(Ytest, pred)"
   ]
  },
  {
   "cell_type": "markdown",
   "id": "f4522654-49e3-4e3d-af70-4daa56bc5a8c",
   "metadata": {},
   "source": [
    "### SVC"
   ]
  },
  {
   "cell_type": "code",
   "execution_count": 12,
   "id": "b4076257-d5a7-42a4-9326-33db9a9f96b0",
   "metadata": {},
   "outputs": [
    {
     "name": "stdout",
     "output_type": "stream",
     "text": [
      "accuracy  0.99616214919645\n",
      "AUC       0.8759120560521865\n",
      "precision 1.0\n",
      "recall    0.4666666666666667\n",
      "f1        0.6363636363636364\n"
     ]
    },
    {
     "data": {
      "image/png": "[encoded data removed]",
      "text/plain": [
       "<Figure size 576x396 with 1 Axes>"
      ]
     },
     "metadata": {},
     "output_type": "display_data"
    }
   ],
   "source": [
    "from sklearn.pipeline import make_pipeline\n",
    "from sklearn.preprocessing import StandardScaler\n",
    "from sklearn.svm import SVC\n",
    "\n",
    "clf = SVC(probability=True)\n",
    "clf.fit(Xtrain, Ytrain)\n",
    "\n",
    "pred = clf.predict_proba(Xtest)\n",
    "evaluate(Ytest, pred[:, 1])"
   ]
  },
  {
   "cell_type": "markdown",
   "id": "13bb9c55-c1b0-4259-be43-aff4e2dbb2e9",
   "metadata": {},
   "source": [
    "### SVR"
   ]
  },
  {
   "cell_type": "code",
   "execution_count": 17,
   "id": "345c2a9f-7012-44d4-bdc8-c58e3be85f58",
   "metadata": {},
   "outputs": [
    {
     "name": "stdout",
     "output_type": "stream",
     "text": [
      "accuracy  0.9959222835212281\n",
      "AUC       0.8757751469759202\n",
      "precision 1.0\n",
      "recall    0.43333333333333335\n",
      "f1        0.6046511627906976\n"
     ]
    },
    {
     "data": {
      "image/png": "[encoded data removed]",
      "text/plain": [
       "<Figure size 576x396 with 1 Axes>"
      ]
     },
     "metadata": {},
     "output_type": "display_data"
    }
   ],
   "source": [
    "from sklearn.svm import SVR\n",
    "from sklearn.pipeline import make_pipeline\n",
    "from sklearn.preprocessing import StandardScaler\n",
    "\n",
    "clf = make_pipeline(StandardScaler(), SVR())\n",
    "clf.fit(Xtrain, Ytrain)\n",
    "\n",
    "pred = clf.predict(Xtest)\n",
    "evaluate(Ytest, pred)"
   ]
  },
  {
   "cell_type": "markdown",
   "id": "b23476b8-e28c-4794-9b28-40da9697e6a9",
   "metadata": {},
   "source": [
    "### catboost"
   ]
  },
  {
   "cell_type": "code",
   "execution_count": 18,
   "id": "46069ff0-f5b7-4613-ac49-0129e73818f2",
   "metadata": {},
   "outputs": [
    {
     "name": "stdout",
     "output_type": "stream",
     "text": [
      "accuracy  0.9935236267690094\n",
      "AUC       0.8406217282757511\n",
      "precision 1.0\n",
      "recall    0.1\n",
      "f1        0.18181818181818182\n"
     ]
    },
    {
     "data": {
      "image/png": "[encoded data removed]",
      "text/plain": [
       "<Figure size 576x396 with 1 Axes>"
      ]
     },
     "metadata": {},
     "output_type": "display_data"
    }
   ],
   "source": [
    "from catboost import CatBoostClassifier\n",
    "\n",
    "model = CatBoostClassifier(iterations=1000)\n",
    "model.fit(Xtrain, Ytrain, verbose=False)\n",
    "\n",
    "pred = model.predict_proba(Xtest)\n",
    "evaluate(Ytest, pred[:, 1])"
   ]
  },
  {
   "cell_type": "markdown",
   "id": "277cc568-7c75-4a1b-927b-ce86aa34d836",
   "metadata": {},
   "source": [
    "### NN"
   ]
  },
  {
   "cell_type": "code",
   "execution_count": 100,
   "id": "b81e8e57-474a-4cc1-a3fa-4b96627e9275",
   "metadata": {},
   "outputs": [],
   "source": [
    "def expand_y(Y):\n",
    "    return np.concatenate([Y[:, None], Y[:, None]*-1+1], axis=-1)"
   ]
  },
  {
   "cell_type": "code",
   "execution_count": 124,
   "id": "eb8a6bfe-3f63-4fcb-9bc9-41f3efa2cbde",
   "metadata": {},
   "outputs": [],
   "source": [
    "trainLoader = torch.utils.data.DataLoader(\n",
    "    utils.EmbedDataset(\n",
    "        x=Xtrain, \n",
    "        y=expand_y(Ytrain),\n",
    "        decompositor=None), \n",
    "    batch_size=2048, \n",
    ")"
   ]
  },
  {
   "cell_type": "code",
   "execution_count": 125,
   "id": "d2565cb2-f3b2-460b-851e-dd0bd9a9ad8f",
   "metadata": {},
   "outputs": [],
   "source": [
    "valLoader = torch.utils.data.DataLoader(\n",
    "    utils.TestDataset(\n",
    "        x=Xval, \n",
    "        y=expand_y(Yval),\n",
    "        decompositor=None), \n",
    "    batch_size=2048, \n",
    ")"
   ]
  },
  {
   "cell_type": "code",
   "execution_count": 126,
   "id": "643c68e6-f9c7-4a97-879b-62e887a85829",
   "metadata": {},
   "outputs": [],
   "source": [
    "testLoader = torch.utils.data.DataLoader(\n",
    "    utils.TestDataset(\n",
    "        x=Xtest, \n",
    "        y=expand_y(Ytest), \n",
    "        decompositor=None), \n",
    "    batch_size=2048, \n",
    ")"
   ]
  },
  {
   "cell_type": "code",
   "execution_count": 246,
   "id": "ff882e6c-a0e5-4819-b296-46b750f52bdd",
   "metadata": {},
   "outputs": [
    {
     "name": "stderr",
     "output_type": "stream",
     "text": [
      "C:\\Users\\royta\\AppData\\Local\\Programs\\Python\\Python310\\lib\\site-packages\\torchmetrics\\utilities\\prints.py:36: UserWarning: Metric `AUROC` will save all targets and predictions in buffer. For large datasets this may lead to large memory footprint.\n",
      "  warnings.warn(*args, **kwargs)\n",
      "C:\\Users\\royta\\AppData\\Local\\Programs\\Python\\Python310\\lib\\site-packages\\torch\\nn\\_reduction.py:42: UserWarning: size_average and reduce args will be deprecated, please use reduction='mean' instead.\n",
      "  warnings.warn(warning.format(ret))\n"
     ]
    }
   ],
   "source": [
    "model = utils.Model(Xtrain.shape[1], d=[32, 32]).to(DEVICE)\n",
    "trainer = utils.Trainer(\n",
    "    model=model,\n",
    "    stop_batch=10_000/2048,\n",
    "    device=DEVICE,\n",
    "    metric=torchmetrics.AUROC(num_classes=2),\n",
    "    loss_fn=nn.CrossEntropyLoss(reduce=True),\n",
    "    optimizer=torch.optim.Adam(model.parameters(), lr=3e-4),\n",
    ")\n",
    "\n",
    "acc = torchmetrics.Accuracy()\n",
    "auc = torchmetrics.AUROC()"
   ]
  },
  {
   "cell_type": "code",
   "execution_count": 247,
   "id": "47a23061-f7d0-4005-9a1c-6a9eac47c6a7",
   "metadata": {},
   "outputs": [
    {
     "name": "stdout",
     "output_type": "stream",
     "text": [
      "=================================================================\n",
      "Layer (type:depth-idx)                   Param #\n",
      "=================================================================\n",
      "├─Sequential: 1-1                        --\n",
      "|    └─Linear: 2-1                       16,416\n",
      "|    └─Dropout: 2-2                      --\n",
      "|    └─GELU: 2-3                         --\n",
      "|    └─Linear: 2-4                       1,056\n",
      "|    └─Dropout: 2-5                      --\n",
      "|    └─GELU: 2-6                         --\n",
      "|    └─Linear: 2-7                       66\n",
      "=================================================================\n",
      "Total params: 17,538\n",
      "Trainable params: 17,538\n",
      "Non-trainable params: 0\n",
      "=================================================================\n"
     ]
    }
   ],
   "source": [
    "torchsummary.summary(model);"
   ]
  },
  {
   "cell_type": "code",
   "execution_count": 248,
   "id": "022ec494-041d-4974-82bb-21e498a9f9c3",
   "metadata": {},
   "outputs": [],
   "source": [
    "name = 'pca free'\n",
    "board_name = name + datetime.datetime.now().strftime(\"%Y.%m.%d - %H-%M-%S\")\n",
    "\n",
    "log_dir = f\"logs/fit/{board_name}\"\n",
    "writer = SummaryWriter(log_dir)"
   ]
  },
  {
   "cell_type": "code",
   "execution_count": 249,
   "id": "0e29411c-1ad0-4713-92a8-a118a7c5d483",
   "metadata": {},
   "outputs": [],
   "source": [
    "try:\n",
    "    wait = 0\n",
    "    patience = 50\n",
    "    \n",
    "    epoch = 0\n",
    "    best_loss = -np.inf\n",
    "    while wait < patience:\n",
    "        train_loss = trainer.train(trainLoader, epoch)\n",
    "\n",
    "        val_pred, val_true = trainer.val(valLoader)\n",
    "        val_pred, val_true = val_pred[:, 0], val_true[:, 0]\n",
    "        metrics = {\n",
    "            'AUC': auc(val_pred.sigmoid(), val_true.int()),\n",
    "            'ACC': acc(val_pred.sigmoid(), val_true.int()),\n",
    "        }\n",
    "        writer.add_scalar('Loss/train', train_loss, epoch)\n",
    "        writer.add_scalar('AUC/train', trainer.metric.compute(), epoch)\n",
    "        writer.add_scalar('AUC/val', metrics['AUC'], epoch)\n",
    "        writer.add_scalar('ACC/val', metrics['ACC'], epoch)\n",
    "\n",
    "\n",
    "        wait+=1\n",
    "        epoch+=1\n",
    "        if metrics['AUC'] > best_loss:\n",
    "            checkpoint = trainer.checkpoint()\n",
    "            torch.save(checkpoint, f'weights/w/{name}.torch')\n",
    "            best_loss = metrics['AUC']\n",
    "            wait = 0\n",
    "\n",
    "\n",
    "except KeyboardInterrupt:\n",
    "    print(\"KeyboardInterrupt\")"
   ]
  },
  {
   "cell_type": "code",
   "execution_count": 250,
   "id": "6f1fba31-8eca-4f3e-84f0-378b81506877",
   "metadata": {},
   "outputs": [
    {
     "name": "stdout",
     "output_type": "stream",
     "text": [
      "accuracy  0.9865675221875749\n",
      "AUC       0.8526375130868971\n",
      "precision 0.27586206896551724\n",
      "recall    0.5333333333333333\n",
      "f1        0.36363636363636365\n"
     ]
    },
    {
     "data": {
      "image/png": "[encoded data removed]",
      "text/plain": [
       "<Figure size 576x396 with 1 Axes>"
      ]
     },
     "metadata": {},
     "output_type": "display_data"
    }
   ],
   "source": [
    "checkpoint = torch.load(f'weights/w/{name}.torch')\n",
    "model.load_state_dict(checkpoint['model'])\n",
    "\n",
    "test_pred, test_true = trainer.val(testLoader)\n",
    "test_pred, test_true = test_pred.softmax(dim=1)[:, 0], test_true[:, 0]\n",
    "evaluate(test_true, test_pred)"
   ]
  },
  {
   "cell_type": "code",
   "execution_count": 245,
   "id": "e46028e7-481a-4a9a-aa1a-c6b658c35009",
   "metadata": {},
   "outputs": [
    {
     "name": "stdout",
     "output_type": "stream",
     "text": [
      "accuracy  0.9923242983928999\n",
      "AUC       0.8650157042763953\n",
      "precision 0.4722222222222222\n",
      "recall    0.5666666666666667\n",
      "f1        0.5151515151515152\n"
     ]
    },
    {
     "data": {
      "image/png": "[encoded data removed]",
      "text/plain": [
       "<Figure size 576x396 with 1 Axes>"
      ]
     },
     "metadata": {},
     "output_type": "display_data"
    }
   ],
   "source": [
    "checkpoint = torch.load(f'weights/w/{name}.torch')\n",
    "model.load_state_dict(checkpoint['model'])\n",
    "\n",
    "test_pred, test_true = trainer.val(testLoader)\n",
    "test_pred, test_true = test_pred.softmax(dim=1)[:, 0], test_true[:, 0]\n",
    "evaluate(test_true, test_pred)"
   ]
  },
  {
   "cell_type": "code",
   "execution_count": 211,
   "id": "184c8037-2ab0-41fb-af1d-9ca9566c16d9",
   "metadata": {},
   "outputs": [],
   "source": [
    "torch.save(checkpoint, f'weights/w/prod.torch')"
   ]
  }
 ],
 "metadata": {
  "kernelspec": {
   "display_name": "Python 3 (ipykernel)",
   "language": "python",
   "name": "python3"
  },
  "language_info": {
   "codemirror_mode": {
    "name": "ipython",
    "version": 3
   },
   "file_extension": ".py",
   "mimetype": "text/x-python",
   "name": "python",
   "nbconvert_exporter": "python",
   "pygments_lexer": "ipython3",
   "version": "3.10.4"
  }
 },
 "nbformat": 4,
 "nbformat_minor": 5
}
